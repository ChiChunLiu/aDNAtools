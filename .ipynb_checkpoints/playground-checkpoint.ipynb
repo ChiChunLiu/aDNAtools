{
 "cells": [
  {
   "cell_type": "code",
   "execution_count": 45,
   "metadata": {},
   "outputs": [],
   "source": [
    "import os\n",
    "import numpy as np\n",
    "import binascii\n",
    "from itertools import zip_longest\n",
    "os.chdir('/scratch/midway2/chichun/aDNA_array_panel/output/modern')"
   ]
  },
  {
   "cell_type": "code",
   "execution_count": 2,
   "metadata": {},
   "outputs": [],
   "source": [
    "\n",
    "def byte2binary(byte):\n",
    "    byte = binascii.hexlify(byte)\n",
    "    return \"{:08b}\".format(int(byte,16))"
   ]
  },
  {
   "cell_type": "code",
   "execution_count": 14,
   "metadata": {},
   "outputs": [
    {
     "data": {
      "text/plain": [
       "288"
      ]
     },
     "execution_count": 14,
     "metadata": {},
     "output_type": "execute_result"
    }
   ],
   "source": [
    "p"
   ]
  },
  {
   "cell_type": "code",
   "execution_count": 43,
   "metadata": {},
   "outputs": [],
   "source": [
    "# see itertools package\n",
    "def grouper(iterable, n, fillvalue= '2'):\n",
    "    \"Collect data into fixed-length chunks or blocks\"\n",
    "    # grouper('ABCDEFG', 3, '0') --> ABC DEF G00\"\n",
    "    args = [iter(iterable)] * n\n",
    "    return zip_longest(*args, fillvalue=fillvalue)\n"
   ]
  },
  {
   "cell_type": "code",
   "execution_count": 55,
   "metadata": {},
   "outputs": [],
   "source": [
    "bit_eigin2plink_dict = {'00':'11','01':'10','10':'00','11':'01'}"
   ]
  },
  {
   "cell_type": "code",
   "execution_count": 56,
   "metadata": {},
   "outputs": [
    {
     "name": "stdout",
     "output_type": "stream",
     "text": [
      "[('0', '0'), ('0', '0'), ('0', '0'), ('0', '0')]\n",
      "11111111\n",
      "[('0', '0'), ('0', '1'), ('0', '0'), ('0', '1')]\n",
      "10111011\n",
      "[('0', '0'), ('1', '0'), ('0', '0'), ('0', '0')]\n",
      "11110011\n",
      "[('0', '0'), ('0', '0'), ('0', '0'), ('0', '1')]\n",
      "10111111\n",
      "[('0', '0'), ('0', '0'), ('0', '0'), ('0', '0')]\n",
      "11111111\n",
      "[('0', '0'), ('0', '0'), ('0', '0'), ('0', '0')]\n",
      "11111111\n",
      "[('0', '0'), ('0', '0'), ('0', '0'), ('0', '0')]\n",
      "11111111\n",
      "[('0', '0'), ('0', '0'), ('0', '0'), ('1', '0')]\n",
      "00111111\n",
      "[('0', '0'), ('0', '0'), ('0', '0'), ('0', '0')]\n",
      "11111111\n",
      "[('0', '0'), ('0', '0'), ('0', '1'), ('0', '0')]\n",
      "11101111\n",
      "[('0', '0'), ('0', '0'), ('0', '1'), ('0', '0')]\n",
      "11101111\n",
      "[('0', '0'), ('0', '0'), ('0', '0'), ('0', '0')]\n",
      "11111111\n",
      "[('0', '0'), ('0', '0'), ('0', '0'), ('0', '0')]\n",
      "11111111\n",
      "[('0', '0'), ('0', '1'), ('0', '0'), ('0', '0')]\n",
      "11111011\n",
      "[('0', '0'), ('0', '0'), ('0', '0'), ('0', '0')]\n",
      "11111111\n",
      "[('0', '0'), ('0', '0'), ('0', '0'), ('0', '0')]\n",
      "11111111\n",
      "[('0', '0'), ('0', '0'), ('0', '1'), ('0', '0')]\n",
      "11101111\n",
      "[('0', '0'), ('0', '0'), ('0', '0'), ('0', '0')]\n",
      "11111111\n",
      "[('0', '0'), ('1', '0'), ('0', '1'), ('0', '1')]\n",
      "10100011\n",
      "[('0', '1'), ('0', '0'), ('0', '0'), ('0', '1')]\n",
      "10111110\n",
      "[('0', '0'), ('0', '0'), ('0', '0'), ('0', '0')]\n",
      "11111111\n",
      "[('0', '0'), ('0', '1'), ('0', '0'), ('0', '0')]\n",
      "11111011\n",
      "[('0', '0'), ('0', '0'), ('0', '1'), ('0', '0')]\n",
      "11101111\n",
      "[('0', '0'), ('0', '0'), ('0', '0'), ('0', '0')]\n",
      "11111111\n",
      "[('0', '0'), ('0', '0'), ('0', '1'), ('0', '0')]\n",
      "11101111\n",
      "[('0', '1'), ('0', '0'), ('0', '0'), ('0', '0')]\n",
      "11111110\n",
      "[('0', '0'), ('0', '0'), ('0', '0'), ('0', '0')]\n",
      "11111111\n",
      "[('0', '0'), ('0', '0'), ('0', '0'), ('0', '0')]\n",
      "11111111\n",
      "[('0', '0'), ('0', '1'), ('0', '0'), ('0', '0')]\n",
      "11111011\n",
      "[('0', '0'), ('0', '0'), ('0', '0'), ('0', '0')]\n",
      "11111111\n",
      "[('0', '0'), ('0', '0'), ('0', '1'), ('0', '0')]\n",
      "11101111\n",
      "[('0', '0'), ('0', '0'), ('0', '0'), ('0', '1')]\n",
      "10111111\n",
      "[('0', '0'), ('0', '1'), ('1', '0'), ('0', '0')]\n",
      "11001011\n",
      "[('0', '1'), ('0', '0'), ('0', '0'), ('0', '1')]\n",
      "10111110\n",
      "[('0', '0'), ('0', '0'), ('0', '0'), ('0', '0')]\n",
      "11111111\n",
      "[('0', '0'), ('0', '0'), ('0', '1'), ('0', '0')]\n",
      "11101111\n",
      "[('0', '0'), ('0', '0'), ('0', '1'), ('0', '0')]\n",
      "11101111\n",
      "[('0', '1'), ('0', '0'), ('0', '0'), ('0', '0')]\n",
      "11111110\n",
      "[('0', '0'), ('0', '0'), ('0', '0'), ('0', '0')]\n",
      "11111111\n",
      "[('0', '0'), ('0', '0'), ('0', '1'), ('0', '0')]\n",
      "11101111\n",
      "[('0', '0'), ('0', '0'), ('0', '0'), ('0', '0')]\n",
      "11111111\n",
      "[('0', '0'), ('0', '0'), ('0', '0'), ('0', '0')]\n",
      "11111111\n",
      "[('0', '0'), ('0', '1'), ('0', '0'), ('0', '0')]\n",
      "11111011\n",
      "[('0', '0'), ('0', '0'), ('0', '0'), ('0', '0')]\n",
      "11111111\n",
      "[('0', '0'), ('0', '1'), ('0', '0'), ('0', '1')]\n",
      "10111011\n",
      "[('0', '0'), ('0', '0'), ('0', '0'), ('0', '0')]\n",
      "11111111\n",
      "[('0', '0'), ('0', '0'), ('0', '0'), ('0', '0')]\n",
      "11111111\n",
      "[('0', '0'), ('0', '0'), ('0', '1'), ('0', '0')]\n",
      "11101111\n",
      "[('0', '0'), ('0', '0'), ('0', '1'), ('0', '0')]\n",
      "11101111\n",
      "[('0', '0'), ('0', '0'), ('0', '0'), ('0', '0')]\n",
      "11111111\n",
      "[('0', '0'), ('0', '0'), ('1', '0'), ('0', '0')]\n",
      "11001111\n"
     ]
    }
   ],
   "source": [
    "geno = 'illumina_omniexpress_merged.packedancestrymapgeno'\n",
    "byte = b'\\x00' # whater nonempty byte value\n",
    "binary_geno = ''\n",
    "nind = 1151\n",
    "padding = (nind*2) % 8\n",
    "nbyte_per_snp = max(48,int(np.ceil(nind*2/8)))\n",
    "\n",
    "with open(geno, 'rb') as geno:\n",
    "    #skip header\n",
    "    i = 0\n",
    "    geno.seek(p)\n",
    "    \n",
    "    counter = 1\n",
    "    while byte != b'':\n",
    "        \n",
    "        geno_byte = geno.read(1)\n",
    "        binary_string = byte2binary(geno_byte)\n",
    "        binary_geno = list(grouper(binary_string, 2))\n",
    "        binary_geno = [bit_eigin2plink_dict[''.join(g)] for g in binary_geno[::-1]]\n",
    "        binary_plink = ''.join(binary_geno)\n",
    "        # padding extra bits\n",
    "        if (counter % nbyte_per_snp == 0) & (padding > 0):\n",
    "            binary_plink = '0' * padding + binary_plink[padding:]\n",
    "\n",
    "        counter += 1\n",
    "        i += 1\n",
    "\n",
    "        if i > 50:\n",
    "            break"
   ]
  },
  {
   "cell_type": "code",
   "execution_count": 36,
   "metadata": {},
   "outputs": [
    {
     "data": {
      "text/plain": [
       "array([1, 1, 1, 0, 0, 1, 1, 2, 2, 2, 2, 1, 0, 2, 0, 1, 2, 0, 1, 1, 0, 0,\n",
       "       0, 0, 0, 1, 0, 0, 0, 0, 0, 2, 0, 1, 1, 0, 1, 1, 2, 0, 0, 1, 1, 0,\n",
       "       1, 0, 1, 0, 1, 0, 0, 1, 0, 2, 1, 1, 0, 1, 0, 1, 1, 0, 0, 1, 0, 1,\n",
       "       1, 1, 1, 1, 0, 1, 1, 2, 1, 1, 1, 0, 0, 1, 1, 0, 0, 0, 1, 1, 1, 0,\n",
       "       1, 1, 2, 1, 0, 0, 0, 0, 0, 1, 0, 1], dtype=uint8)"
      ]
     },
     "execution_count": 36,
     "metadata": {},
     "output_type": "execute_result"
    }
   ],
   "source": [
    "gt[:100]\n"
   ]
  },
  {
   "cell_type": "code",
   "execution_count": 32,
   "metadata": {},
   "outputs": [
    {
     "data": {
      "text/plain": [
       "288.0"
      ]
     },
     "execution_count": 32,
     "metadata": {},
     "output_type": "execute_result"
    }
   ],
   "source": [
    "gt_bits.shape[0]/8"
   ]
  },
  {
   "cell_type": "code",
   "execution_count": null,
   "metadata": {},
   "outputs": [],
   "source": [
    "    if geno.endswith('.geno'):\n",
    "        with open(geno, 'r') as geno, open(bed, 'ab') as bed:\n",
    "            # plink magic header\n",
    "            bed.write(b'\\x6c\\x1b\\x01')\n",
    "\n",
    "            for line in geno:\n",
    "                line = grouper(line.strip(), 4)\n",
    "                an_holder = []\n",
    "                for an in line:\n",
    "                    an_holder.append(''.join(an[::-1]))\n",
    "\n",
    "                line = ''.join(an_holder)\n",
    "                line = ''.join([an2geno_dict[an] for an in list(line)])\n",
    "                # Ignacio Vazquez-Abrams @ StackOverflow\n",
    "                # 2072351/python-conversion-from-binary-string-to-hexadecimal\n",
    "                line = '%0*X' % ((len(line) + 3) // 4, int(line, 2))\n",
    "                line = binascii.unhexlify(line)\n",
    "\n",
    "                bed.write(line)"
   ]
  }
 ],
 "metadata": {
  "kernelspec": {
   "display_name": "Python 3",
   "language": "python",
   "name": "python3"
  },
  "language_info": {
   "codemirror_mode": {
    "name": "ipython",
    "version": 3
   },
   "file_extension": ".py",
   "mimetype": "text/x-python",
   "name": "python",
   "nbconvert_exporter": "python",
   "pygments_lexer": "ipython3",
   "version": "3.6.7"
  }
 },
 "nbformat": 4,
 "nbformat_minor": 2
}
