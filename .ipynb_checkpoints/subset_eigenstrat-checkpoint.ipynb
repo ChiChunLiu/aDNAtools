{
 "cells": [
  {
   "cell_type": "code",
   "execution_count": 4,
   "metadata": {},
   "outputs": [],
   "source": [
    "import argparse\n",
    "import random\n",
    "import pandas as pd"
   ]
  },
  {
   "cell_type": "code",
   "execution_count": null,
   "metadata": {},
   "outputs": [],
   "source": [
    "# random seed -r\n",
    "random.seed(args.seed)"
   ]
  },
  {
   "cell_type": "code",
   "execution_count": 3,
   "metadata": {},
   "outputs": [],
   "source": [
    "# specify population and n. -T\n",
    "# e.g UpperMustang 30\n",
    "def read_population_draw_table(file):\n",
    "    population_map = {}\n",
    "    with open(file, 'r') as f:\n",
    "        for line in f:\n",
    "            p, n = line.strip().split()\n",
    "            if p in population_map.keys():\n",
    "                raise ValueError('sample population subsetted multiple times.')\n",
    "            else: \n",
    "                population_map[p] = n\n",
    "    return population_map"
   ]
  },
  {
   "cell_type": "code",
   "execution_count": null,
   "metadata": {},
   "outputs": [],
   "source": [
    "# spefify a list of individual wanting to keep -S\n",
    "def read_kept_individual(file):\n",
    "    with open(file, 'r') as f:\n",
    "        inds = [i.strip() for i in f] \n",
    "    return inds"
   ]
  },
  {
   "cell_type": "code",
   "execution_count": null,
   "metadata": {},
   "outputs": [],
   "source": [
    "# spefify a list of population wanting to keep -P\n",
    "def read_kept_population(file):\n",
    "    with open(file, 'r') as f:\n",
    "        pops = [p.strip() for p in f] \n",
    "    return pops"
   ]
  },
  {
   "cell_type": "code",
   "execution_count": null,
   "metadata": {},
   "outputs": [],
   "source": [
    "def population_draw(clst_df, subset_dict):\n",
    "    pops = list(subset_dict.keys())\n",
    "    all_dfs = [clst_df[~clst_df['population'].isin(pops)]]\n",
    "    \n",
    "    for p in pops:\n",
    "        df = clst_df[clst_df['population'] == p]\n",
    "        df = df.sample(n = subset_dict[p])\n",
    "        all_dfs.append(df)    \n",
    "    \n",
    "    df = pd.concat(all_dfs)\n",
    "    df = df.sort_index()\n",
    "    return df"
   ]
  },
  {
   "cell_type": "code",
   "execution_count": null,
   "metadata": {},
   "outputs": [],
   "source": [
    "if __name__== \"__main__\":\n",
    "\n",
    "    parser = argparse.ArgumentParser()\n",
    "    parser.add_argument('-i', '--input', type = str, default = \"\", help = \"prefix for inputs\")\n",
    "    parser.add_argument('-r', '--seed', type = str, default = \"\", help = \"prefix for ancestrymap input\")\n",
    "    parser.add_argument('-T', '--table', type = str, default = \"\", help = \"population subset table. e.g. UpperMustang 30\")\n",
    "    parser.add_argument('-S', '--sample', type = str, default = \"\", help = \"samples to keep\")\n",
    "    parser.add_argument('-P', '--population', type = str, default = \"\", help = \"populations to keep\")\n",
    "    parser.add_argument('-o', '--output', type = str, default = \"\", help = \"prefix for outputs\")\n",
    "    args = parser.parse_args()\n",
    "    \n",
    "    \n",
    "    sub = [args.table, args.sample, args.population]\n",
    "\n",
    "    clst = pd.read_csv(args.input + '.ind', sep = '\\s+')\n",
    "    if clst.shape[1] != 3:\n",
    "        clst = pd.read_csv(args.input + '.ind', sep = '\\t')\n",
    "    clst.columns = ['sample', 'sex', 'population']\n",
    "        \n",
    "    if ''.join(sub):\n",
    "        raise ValueError('subset input error')\n",
    "    \n",
    "    else if args.table:\n",
    "        population_map = read_population_draw_table(args.table)\n",
    "        clst_subset = subset_population(clst, population_map)\n",
    "        \n",
    "    else if args.sample:\n",
    "        inds = read_kept_individual(args.sample)\n",
    "        clst_subset = clst[clst['sample'].isin(inds)]\n",
    "        \n",
    "    else:\n",
    "        pops = read_kept_population(args.population)\n",
    "        clst_subset = clst[clst['population'].isin(pops)]\n",
    "        \n",
    "    clst_subset.to_csv(args.output, sep = '\\t', index = False, header = False)\n",
    "    keep_index = clst_subset.index\n",
    "    \n",
    "    with open(args.input + '.geno', 'r') as geno, open(args.output + '.geno', 'a') as geno_out:\n",
    "        for line in geno:\n",
    "            gt = list(geno.strip())\n",
    "            gt = [gt[i] for i in keep_index]\n",
    "            gt = ''.join(gt) + '\\n'\n",
    "            geno_out.write(gt)\n",
    "\n",
    "    with open(args.input + '.snp', 'r') as snp, open(args.output + '.snp', 'a') as snp_out:\n",
    "        for line in snp:\n",
    "            snp_out.write(line)\n"
   ]
  }
 ],
 "metadata": {
  "kernelspec": {
   "display_name": "Python 3",
   "language": "python",
   "name": "python3"
  },
  "language_info": {
   "codemirror_mode": {
    "name": "ipython",
    "version": 3
   },
   "file_extension": ".py",
   "mimetype": "text/x-python",
   "name": "python",
   "nbconvert_exporter": "python",
   "pygments_lexer": "ipython3",
   "version": "3.6.7"
  }
 },
 "nbformat": 4,
 "nbformat_minor": 2
}
